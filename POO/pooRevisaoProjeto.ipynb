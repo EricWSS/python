{
 "cells": [
  {
   "cell_type": "markdown",
   "metadata": {},
   "source": []
  },
  {
   "cell_type": "markdown",
   "metadata": {},
   "source": [
    "![Imagem revisão](revisao.png)\n",
    "\n",
    "# **Os pilares da orientação a objetos.**\n",
    "\n",
    "![Imagem poo](poo.png)\n",
    "\n",
    "## **Herança:**\n",
    "\n",
    "Herança é um princípio fundamental na POO que permite que uma classe (subclasse ou classe derivada) herde atributos e comportamentos de outra classe (superclasse ou classe base).\n",
    "A classe derivada pode estender ou modificar o comportamento da classe base."
   ]
  },
  {
   "cell_type": "code",
   "execution_count": null,
   "metadata": {},
   "outputs": [],
   "source": [
    "class Animal:\n",
    "    def fazer_som(self):\n",
    "        pass\n",
    "\n",
    "class Cachorro(Animal):\n",
    "    def fazer_som(self):\n",
    "        return \"Au au!\"\n",
    "\n",
    "class Gato(Animal):\n",
    "    def fazer_som(self):\n",
    "        return \"Miau!\"\n",
    "\n",
    "# Uso de herança\n",
    "dog = Cachorro()\n",
    "cat = Gato()\n",
    "\n",
    "print(dog.fazer_som())  # Resultado: Au au!\n",
    "print(cat.fazer_som())  # Resultado: Miau!\n"
   ]
  },
  {
   "cell_type": "markdown",
   "metadata": {},
   "source": [
    "## **Polimorfismo:**\n",
    "\n",
    "Polimorfismo refere-se à capacidade de uma classe ou método assumir várias formas.\n",
    "\n",
    "Existem dois tipos principais de polimorfismo em POO: \n",
    "- Polimorfismo de tempo de compilação (estático) \n",
    "- Polimorfismo de tempo de execução (dinâmico).\n",
    "\n",
    "O polimorfismo permite que objetos de diferentes classes respondam à mesma mensagem (chamada de método) de maneira única."
   ]
  },
  {
   "cell_type": "code",
   "execution_count": null,
   "metadata": {},
   "outputs": [],
   "source": [
    "class Animal:\n",
    "    def fazer_som(self):\n",
    "        pass\n",
    "\n",
    "class Cachorro(Animal):\n",
    "    def fazer_som(self):\n",
    "        return \"Au au!\"\n",
    "\n",
    "class Gato(Animal):\n",
    "    def fazer_som(self):\n",
    "        return \"Miau!\"\n",
    "\n",
    "# Uso de polimorfismo\n",
    "def fazer_barulho(animal):\n",
    "    return animal.fazer_som()\n",
    "\n",
    "dog = Cachorro()\n",
    "cat = Gato()\n",
    "\n",
    "print(fazer_barulho(dog))  # Resultado: Au au!\n",
    "print(fazer_barulho(cat))  # Resultado: Miau!\n"
   ]
  },
  {
   "cell_type": "markdown",
   "metadata": {},
   "source": [
    "### **Relação:**\n",
    "\n",
    "Herança e Polimorfismo: A herança muitas vezes é usada para alcançar o polimorfismo. \n",
    "\n",
    "No exemplo acima, ambas as classes Cachorro e Gato herdam da classe Animal, e ambas implementam um método chamado **fazer_som**. Isso permite que a função **fazer_barulho** seja polimórfica, pois pode aceitar qualquer objeto que tenha um método fazer_som.\n",
    "\n",
    "Em resumo, herança é sobre compartilhar atributos e comportamentos entre classes, enquanto polimorfismo é sobre a capacidade de objetos de diferentes classes responderem à mesma mensagem de maneira única. \n",
    "\n",
    "Ambos são conceitos essenciais na programação orientada a objetos e são frequentemente usados em conjunto para criar código mais flexível e reutilizável.\n",
    "\n",
    "## **Abstração:**\n",
    "\n",
    "A abstração é um princípio fundamental da Programação Orientada a Objetos (POO) que permite aos desenvolvedores simplificar a complexidade do mundo real ao modelar objetos relevantes para o sistema. Ela consiste em focar nos aspectos essenciais de um objeto, ignorando detalhes menos relevantes. \n",
    "Isso ajuda a criar modelos que são mais fáceis de entender e manipular.\n",
    "\n",
    "### **Aplicação para Empresa de Estacionamento (Abstração Simples)**\n",
    "\n",
    "Neste exemplo, a abstração é usada para modelar um objeto \"Carro\" para uma aplicação de empresa de estacionamento. \n",
    "Apenas dois parâmetros, hora_de_entrada e hora_de_saida, são considerados para simplificar o modelo."
   ]
  },
  {
   "cell_type": "code",
   "execution_count": null,
   "metadata": {},
   "outputs": [],
   "source": [
    "class Carro:\n",
    "    def __init__(self, hora_de_entrada, hora_de_saida=None):\n",
    "        self.hora_de_entrada = hora_de_entrada\n",
    "        self.hora_de_saida = hora_de_saida\n",
    "\n",
    "    def calcular_tempo_estacionado(self):\n",
    "        if self.hora_de_saida is not None:\n",
    "            return self.hora_de_saida - self.hora_de_entrada\n",
    "        else:\n",
    "            return \"Carro ainda está estacionado\"\n"
   ]
  },
  {
   "cell_type": "markdown",
   "metadata": {},
   "source": [
    "### **Aplicação para Oficina Automotiva (Abstração Detalhada)**\n",
    "\n",
    "Aqui, a abstração é usada para modelar um objeto \"Carro\" para uma aplicação de oficina automotiva. \n",
    "Vários parâmetros, como marca, modelo, ano, cor e chassi, são considerados para refletir a complexidade da situação."
   ]
  },
  {
   "cell_type": "code",
   "execution_count": null,
   "metadata": {},
   "outputs": [],
   "source": [
    "class Carro:\n",
    "    def __init__(self, marca, modelo, ano, cor, chassi):\n",
    "        self.marca = marca\n",
    "        self.modelo = modelo\n",
    "        self.ano = ano\n",
    "        self.cor = cor\n",
    "        self.chassi = chassi\n"
   ]
  },
  {
   "cell_type": "markdown",
   "metadata": {},
   "source": [
    "## **Encapsulamento:**\n",
    "\n",
    "Encapsulamento é um dos princípios da Programação Orientada a Objetos (POO) que visa proteger a implementação interna de uma classe, restringindo o acesso direto a certos detalhes internos. \n",
    "Em Python, o encapsulamento é implementado através de convenções e mecanismos específicos."
   ]
  },
  {
   "cell_type": "code",
   "execution_count": null,
   "metadata": {},
   "outputs": [],
   "source": [
    "class ContaBancaria:\n",
    "    def __init__(self, titular, saldo_inicial):\n",
    "        self.__titular = titular  # Atributo encapsulado\n",
    "        self.__saldo = saldo_inicial  # Atributo encapsulado\n",
    "\n",
    "    def depositar(self, valor):\n",
    "        \"\"\"Deposita dinheiro na conta.\"\"\"\n",
    "        if valor > 0:\n",
    "            self.__saldo += valor\n",
    "            print(f\"Depósito de {valor} realizado. Novo saldo: {self.__saldo}\")\n",
    "        else:\n",
    "            print(\"Valor inválido para depósito.\")\n",
    "\n",
    "    def sacar(self, valor):\n",
    "        \"\"\"Retira dinheiro da conta.\"\"\"\n",
    "        if valor > 0 and valor <= self.__saldo:\n",
    "            self.__saldo -= valor\n",
    "            print(f\"Saque de {valor} realizado. Novo saldo: {self.__saldo}\")\n",
    "        else:\n",
    "            print(\"Valor inválido para saque.\")\n",
    "\n",
    "    def consultar_saldo(self):\n",
    "        \"\"\"Consulta o saldo da conta.\"\"\"\n",
    "        return f\"Saldo atual: {self.__saldo}\" "
   ]
  },
  {
   "cell_type": "markdown",
   "metadata": {},
   "source": [
    "self.__titular e self.__saldo são encapsulados usando dois underscores no início do nome dos atributos. Isso não impede totalmente o acesso, mas indica que esses atributos são privados e não devem ser acessados diretamente de fora da classe.\n",
    "\n",
    "Métodos como depositar, sacar, e consultar_saldo são fornecidos para interagir com os atributos encapsulados de maneira controlada. Esses métodos servem como uma interface pública para a classe, enquanto os detalhes internos são mantidos encapsulados.\n",
    "\n",
    "O encapsulamento ajuda a prevenir alterações não autorizadas nos dados da conta, garantindo que as operações ocorram de acordo com as regras definidas pelos métodos da classe."
   ]
  },
  {
   "cell_type": "code",
   "execution_count": null,
   "metadata": {},
   "outputs": [],
   "source": []
  }
 ],
 "metadata": {
  "kernelspec": {
   "display_name": "Python 3",
   "language": "python",
   "name": "python3"
  },
  "language_info": {
   "name": "python",
   "version": "3.12.0"
  }
 },
 "nbformat": 4,
 "nbformat_minor": 2
}
