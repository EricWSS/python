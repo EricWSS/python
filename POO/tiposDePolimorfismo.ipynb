{
 "cells": [
  {
   "cell_type": "markdown",
   "metadata": {},
   "source": [
    "# **Tipos de polimorfismo em POO**:\n",
    "\n",
    "## **Subtyping:**\n",
    "\n",
    "Subtyping ocorre quando um tipo de dado é um subconjunto de outro. \n",
    "Em Python, isso é frequentemente visto em herança de classes.\n",
    "\n",
    "Neste exemplo abaixo, Dog e Cat são subtipos de Animal."
   ]
  },
  {
   "cell_type": "code",
   "execution_count": null,
   "metadata": {},
   "outputs": [],
   "source": [
    "class Animal:\n",
    "    def latir(self):\n",
    "        pass\n",
    "\n",
    "class Dog(Animal):\n",
    "    def latir(self):\n",
    "        return \"AUAU!\"\n",
    "\n",
    "class Cat(Animal):\n",
    "    def latir(self):\n",
    "        return \"Miau!\"\n",
    "\n",
    "# Subtyping\n",
    "rex = Dog()\n",
    "lua = Cat()\n",
    "\n",
    "animals = [rex, lua]\n",
    "\n",
    "for animal in animals:\n",
    "    print(animal.latir())\n"
   ]
  },
  {
   "cell_type": "markdown",
   "metadata": {},
   "source": [
    "## **Ad-hoc Polymorphism (Overloading):**\n",
    "\n",
    "Overloading permite que você defina múltiplas funções com o mesmo nome, mas com diferentes parâmetros.\n",
    "\n",
    "Em Python, a linguagem não suporta explicitamente o overloading de funções da mesma forma que algumas outras linguagens (como C++). No entanto, podemos realizar overloading ou ad-hoc polymorphism usando padrões de argumentos e valores padrão. Aqui está um exemplo:"
   ]
  },
  {
   "cell_type": "code",
   "execution_count": null,
   "metadata": {},
   "outputs": [],
   "source": [
    "def somar(a, b=None, c=None):\n",
    "    if b is not None and c is not None:\n",
    "        return a + b + c\n",
    "    elif b is not None:\n",
    "        return a + b\n",
    "    else:\n",
    "        return a\n",
    "\n",
    "# Testando a função com diferentes números de argumentos\n",
    "resultado1 = somar(2)\n",
    "resultado2 = somar(2, 3)\n",
    "resultado3 = somar(2, 3, 4)\n",
    "\n",
    "print(f\"Resultado 1: {resultado1}\")\n",
    "print(f\"Resultado 2: {resultado2}\")\n",
    "print(f\"Resultado 3: {resultado3}\")"
   ]
  },
  {
   "cell_type": "markdown",
   "metadata": {},
   "source": [
    "Neste exemplo, a função somar pode aceitar um, dois ou três argumentos. Se apenas um argumento for fornecido, a função retorna o próprio argumento. \n",
    "\n",
    "Se dois argumentos forem fornecidos, ela retorna a soma dos dois. Se três argumentos forem fornecidos, ela retorna a soma dos três.\n",
    "\n",
    "Isso é uma forma de ad-hoc polymorphism, pois a função pode se comportar de maneiras diferentes com base no número de argumentos fornecidos. \n",
    "\n",
    "No entanto, vale ressaltar que isso não é exatamente overloading de funções, como em linguagens que suportam overloading diretamente."
   ]
  },
  {
   "cell_type": "markdown",
   "metadata": {},
   "source": [
    "## **Ad-hoc Polymorphism (Coercion polymorphism)**\n",
    "\n",
    "Em Python, o polimorfismo de coerção (ou polimorfismo de tipo) é uma característica intrínseca à linguagem. \n",
    "O exemplo mais comum ocorre quando você usa operadores em objetos de diferentes tipos. \n",
    "O Python tentará realizar automaticamente conversões (coerções) de tipos, se possível. \n",
    "Aqui está um exemplo:"
   ]
  },
  {
   "cell_type": "code",
   "execution_count": null,
   "metadata": {},
   "outputs": [],
   "source": [
    "def somar(a, b):\n",
    "    return a + b\n",
    "\n",
    "# Testando a função com diferentes tipos de dados\n",
    "resultado1 = somar(2, 3)         # Dois inteiros\n",
    "resultado2 = somar(2.5, 3.5)     # Dois floats\n",
    "resultado3 = somar(\"Hello, \", \"world!\")  # Duas strings\n",
    "\n",
    "print(f\"Resultado 1: {resultado1}\")\n",
    "print(f\"Resultado 2: {resultado2}\")\n",
    "print(f\"Resultado 3: {resultado3}\")"
   ]
  },
  {
   "cell_type": "markdown",
   "metadata": {},
   "source": [
    "Neste exemplo, a função somar é definida para aceitar dois argumentos e retornar a soma deles. No entanto, observe que não há verificação explícita de tipos ou declaração de tipos nos parâmetros. Isso significa que a função pode aceitar argumentos de diferentes tipos, como inteiros, floats ou strings.\n",
    "\n",
    "O Python realizará automaticamente a coerção de tipo conforme necessário. Por exemplo, ao chamar somar(\"Hello, \", \"world!\"), o Python entenderá que você está concatenando duas strings, não somando números, e retornará a concatenação das strings."
   ]
  },
  {
   "cell_type": "markdown",
   "metadata": {},
   "source": [
    "## **Parametric Polymorphism**\n",
    "\n",
    "Em Python, o Polimorfismo Paramétrico é frequentemente associado ao uso de listas, dicionários, e funções que aceitam argumentos genéricos. Por exemplo, considerando uma função simples de troca de elementos em uma lista:"
   ]
  },
  {
   "cell_type": "code",
   "execution_count": null,
   "metadata": {},
   "outputs": [],
   "source": [
    "def trocar_elementos(lista, indice1, indice2):\n",
    "    lista[indice1], lista[indice2] = lista[indice2], lista[indice1]\n",
    "\n",
    "# Exemplo de uso\n",
    "minha_lista = [1, 2, 3, 4, 5]\n",
    "trocar_elementos(minha_lista, 0, 4)\n",
    "print(minha_lista)\n"
   ]
  },
  {
   "cell_type": "markdown",
   "metadata": {},
   "source": [
    "Neste exemplo, a função trocar_elementos é genérica e pode ser usada com listas contendo diferentes tipos de elementos.\n",
    "\n",
    "Isso é possível devido ao Polimorfismo Paramétrico em Python, onde a função não está vinculada a tipos de dados específicos."
   ]
  },
  {
   "cell_type": "markdown",
   "metadata": {},
   "source": [
    "## **Structural Polymorphism**\n",
    "\n",
    "O Polimorfismo Estrutural, muitas vezes referido como Duck Typing (tipagem de pato) em Python, é um conceito em que a semelhança na estrutura de tipos de dados é mais importante do que a herança de tipos específicos. Em outras palavras, se um objeto se comporta como se fosse de um tipo específico, então, para fins práticos, ele é tratado como tal, independentemente do seu tipo real.\n",
    "\n",
    "Em Python, o Duck Typing é uma forma de Polimorfismo Estrutural, onde os métodos e atributos de um objeto são mais importantes do que sua classe ou tipo. Por exemplo:"
   ]
  },
  {
   "cell_type": "code",
   "execution_count": null,
   "metadata": {},
   "outputs": [],
   "source": [
    "class Pato:\n",
    "    def fazer_som(self):\n",
    "        return \"Quack!\"\n",
    "\n",
    "class Cachorro:\n",
    "    def fazer_som(self):\n",
    "        return \"Au au!\"\n",
    "\n",
    "class Gato:\n",
    "    def fazer_som(self):\n",
    "        return \"Miau!\"\n",
    "\n",
    "def fazer_som_do_animal(animal):\n",
    "    return animal.fazer_som()\n",
    "\n",
    "# Exemplo de uso\n",
    "pato = Pato()\n",
    "cachorro = Cachorro()\n",
    "gato = Gato()\n",
    "\n",
    "print(fazer_som_do_animal(pato))      # Saída: Quack!\n",
    "print(fazer_som_do_animal(cachorro))  # Saída: Au au!\n",
    "print(fazer_som_do_animal(gato))      # Saída: Miau!"
   ]
  },
  {
   "cell_type": "markdown",
   "metadata": {},
   "source": [
    "Neste exemplo, as classes Pato, Cachorro, e Gato não precisam compartilhar uma hierarquia de herança comum. \n",
    "O que importa é que cada uma delas possui um método fazer_som. A função fazer_som_do_animal é polimórfica, pois aceita diferentes tipos de animais, desde que eles tenham o método fazer_som.\n",
    "\n",
    "O Polimorfismo Estrutural em Python é um dos pilares do design orientado a objetos na linguagem, enfatizando a flexibilidade e a ênfase no comportamento do objeto em vez do seu tipo específico.\n"
   ]
  }
 ],
 "metadata": {
  "language_info": {
   "name": "python"
  }
 },
 "nbformat": 4,
 "nbformat_minor": 2
}
