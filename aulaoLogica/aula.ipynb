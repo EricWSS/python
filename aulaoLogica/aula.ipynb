{
 "cells": [
  {
   "cell_type": "markdown",
   "metadata": {},
   "source": [
    "# ** Imersão em Lógica **\n",
    "\n",
    "Quando abordamos o campo da lógica de programação, estamos essencialmente explorando o domínio da lógica pura, porém com nuances específicas. A Lógica de Programação, carinhosamente conhecida como LP, apresenta características distintas, uma vez que precisa ser adaptada a uma linguagem de programação. Essa linguagem atua como uma ponte, realizando a tradução entre a linguagem de computador, composta por instruções precisas, e a linguagem natural humana. Assim, a habilidade de traduzir conceitos e algoritmos em comandos compreensíveis pelo computador é essencial para o desenvolvimento eficaz e preciso de programas.\n",
    "\n"
   ]
  },
  {
   "cell_type": "markdown",
   "metadata": {},
   "source": [
    "## **Variáveis**\n",
    "\n",
    "Este é um conceito primordial em qualquer linguagem de programação, e tem como objetivo armazenar informações imputadas.\n",
    "\n",
    "![Variave demonstração com analogia de gaveta.](var.jpg)\n",
    "\n",
    "A analogia com gavetas é muito boa para demonstrar que a variável é um espaço para armazenamento de \"coisas\" que são os dados."
   ]
  },
  {
   "cell_type": "markdown",
   "metadata": {},
   "source": [
    "### **Tipos de variáveis**\n",
    "\n",
    "#### **Variáveis Numéricas:**\n",
    "\n",
    "- Inteiros (**int**): Armazenam números inteiros, como -5, 0, 42.\n",
    "- Ponto Flutuante (**float**): Representam números decimais, incluindo frações, como 3.14, 0.5.\n",
    "\n",
    "#### **Variáveis de Texto:**\n",
    "\n",
    "- String (**str**): Guardam sequências de caracteres, como \"Olá, Mundo!\" ou 'Python é incrível'.\n",
    "\n",
    "#### **Variáveis Lógicas:**\n",
    "\n",
    "- Booleanas (**bool**): Podem assumir apenas dois valores, **True** (**verdadeiro**) ou **False** (falso). São essenciais para controle de fluxo e tomada de decisões em programas.\n",
    "\n",
    "#### **Variáveis de Coleções:**\n",
    "\n",
    "- Listas (**list()** | **[]**): Armazenam conjuntos ordenados de elementos, permitindo acesso e modificação.\n",
    "Tuplas: Similar às listas, mas são imutáveis, ou seja, não podem ser alteradas após a criação.\n",
    "- Dicionários (**dict()** | **{}**): Mapeiam chaves a valores, proporcionando uma maneira eficiente de acessar dados por meio de chaves únicas.\n",
    "- Conjuntos (**set()** | **{}**): Representam coleções não ordenadas e sem elementos duplicados.\n",
    "\n",
    "#### **Variáveis Nulas:**\n",
    "\n",
    "- **None** (ou Null): Indicam a ausência de valor. São frequentemente usadas para inicializar variáveis antes de receberem um valor específico."
   ]
  },
  {
   "cell_type": "code",
   "execution_count": 8,
   "metadata": {},
   "outputs": [],
   "source": [
    "'________________ Variáveis Numéricas: ________________'\n",
    "\n",
    "# Inteiro\n",
    "idade = 23\n",
    "\n",
    "# Float\n",
    "altura = 1.75\n",
    "\n",
    "# Boolean\n",
    "ativo = True\n",
    "\n",
    "'________________ Variáveis de Texto: ________________'\n",
    "\n",
    "# String\n",
    "nome = \"Maria\"\n",
    "\n",
    "'________________ Variáveis de Lista: ________________'\n",
    "\n",
    "# Lista\n",
    "lista = [1, 2, 3, 4, 5]\n",
    "\n",
    "'________________ Variáveis de Dicionário: ________________'\n",
    "\n",
    "# Dicionário\n",
    "dicionario = {\"nome\": \"Maria\", \"idade\": 23}\n",
    "\n",
    "'________________ Variáveis de Tupla: ________________'\n",
    "\n",
    "# Tupla\n",
    "tupla = (1, 2, 3, 4, 5)\n",
    "\n",
    "'________________ Variáveis de Set: ________________'\n",
    "\n",
    "# Set\n",
    "set = {1, 2, 3, 4, 5}\n",
    "\n",
    "'________________ Variáveis de None: ________________'\n",
    "\n",
    "# None\n",
    "none = None"
   ]
  },
  {
   "cell_type": "markdown",
   "metadata": {},
   "source": [
    "## **Mapa mental**\n",
    "\n",
    "### **Entrada de dados**\n",
    "- Entrada de dados.\n",
    "    - variáveis\n",
    "    - input()\n",
    "- Processamento de dados.\n",
    "    - casting Z conversão\n",
    "    - ...\n",
    "- Saída de dados.\n",
    "    - print()\n",
    "    - ...\n"
   ]
  },
  {
   "cell_type": "code",
   "execution_count": null,
   "metadata": {},
   "outputs": [],
   "source": [
    "print(\"Olá mundo!\")"
   ]
  },
  {
   "cell_type": "markdown",
   "metadata": {},
   "source": [
    "## **Condicionais**\n",
    "\n",
    "Como o proprio nome já diz, estamos falando de definir condição para que algo acontece, e a dica é: **O código só roda se a condição for verdadeira.\n",
    "\n",
    "A condição dada sempre necessita ser um retorno **booleano** "
   ]
  },
  {
   "cell_type": "code",
   "execution_count": null,
   "metadata": {},
   "outputs": [],
   "source": [
    "if True:\n",
    "    print(\"Essa condição sempre será verdadeira e esse 'print' sempre será exibido.\")\n",
    "\n",
    "if False:\n",
    "    print(\"Essa condição sempre será falsa e esse 'print' nunca será exibido.\")"
   ]
  },
  {
   "cell_type": "markdown",
   "metadata": {},
   "source": [
    "A estrutura condicional será formada pelo\n",
    "\n",
    "- **IF** (se): É a primeira condição para validar ou filtrar alguma sentença.\n",
    "\n",
    "- **ELIF** (e se): É o segundo e o único que pode se repetir num bloco de código de filtragem ou validação de uma sentença e necessita estar atrelado a um **if**\n",
    "\n",
    "- **ELSE** (caso contrário): É a última instrução do bloco de código e que não pode se repitir e necessita estar atrelado a um **if**"
   ]
  },
  {
   "cell_type": "code",
   "execution_count": 1,
   "metadata": {},
   "outputs": [
    {
     "name": "stdout",
     "output_type": "stream",
     "text": [
      "O if é verdadeiro\n"
     ]
    }
   ],
   "source": [
    "# Estrutura:\n",
    "if True:\n",
    "    print(\"Olá mundo\")\n",
    "elif False:\n",
    "    print(\"Olá mundo\")\n",
    "elif False:\n",
    "    print(\"Olá mundo\")\n",
    "elif False:\n",
    "    print(\"Olá mundo\")\n",
    "else:\n",
    "    print(\"Olá mundo\")\n",
    "\n",
    "\n",
    "\n",
    "# Vamos testar os operadores lógicos >, <, ==, !=, >=, <=, not, and, or\n",
    "if (10/3)>3:\n",
    "    print(\"O if é verdadeiro\")"
   ]
  },
  {
   "cell_type": "code",
   "execution_count": null,
   "metadata": {},
   "outputs": [],
   "source": [
    "# If para definir uma escolha:\n",
    "print(\"1 - Cadastrar\")\n",
    "print(\"2 - Listar\")\n",
    "print(\"3 - Sair\")\n",
    "opcao = input(\"Digite uma opção: \")\n",
    "\n",
    "if opcao == \"1\":\n",
    "    print(\"Cadastrando...\")\n",
    "..."
   ]
  },
  {
   "cell_type": "code",
   "execution_count": 11,
   "metadata": {},
   "outputs": [],
   "source": [
    "# If para filtar uma coleção:\n",
    "\n",
    "variavel = input(\"Digite uma 'string' que também é uma coleção: \")\n",
    "\n",
    "if 'ç' in variavel:\n",
    "    print(\"A string possui 'ç'.\")\n",
    "elif 'ã' in variavel:\n",
    "    print(\"A string possui 'ã'.\")\n",
    "elif 'â' in variavel:\n",
    "    print(\"A string possui 'â'.\")\n",
    "else:\n",
    "    print(\"A string não possui 'ç', 'ã' ou 'â'.\")\n",
    "    \n"
   ]
  },
  {
   "cell_type": "code",
   "execution_count": 1,
   "metadata": {},
   "outputs": [],
   "source": [
    "nota = int(input(\"Digite sua nota: \"))\n",
    "if nota <0 or nota > 11:\n",
    "    print(\"Nota inválida\")\n",
    "elif nota == 10:\n",
    "    print(\"Aprovado com distinção\")\n",
    "elif nota >= 7:\n",
    "    print(\"Aprovado\")\n",
    "else:\n",
    "    print(\"Reprovado\")\n"
   ]
  }
 ],
 "metadata": {
  "kernelspec": {
   "display_name": "Python 3",
   "language": "python",
   "name": "python3"
  },
  "language_info": {
   "codemirror_mode": {
    "name": "ipython",
    "version": 3
   },
   "file_extension": ".py",
   "mimetype": "text/x-python",
   "name": "python",
   "nbconvert_exporter": "python",
   "pygments_lexer": "ipython3",
   "version": "3.12.0"
  }
 },
 "nbformat": 4,
 "nbformat_minor": 2
}
