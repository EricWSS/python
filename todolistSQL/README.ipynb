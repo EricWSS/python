{
 "cells": [
  {
   "cell_type": "markdown",
   "metadata": {},
   "source": [
    "# **Python + MySQL**\n",
    "\n",
    "Hoje veremos como é feita a ligação entre o python e o MySQL.\n",
    "\n",
    "Vale lembrar que se trata de um CRUD de DML (Data Manipulation Language) e por tanto, as tabelas e suas respectivas colunas devem estar criadas.\n",
    "\n",
    "Primeiramente vamos instalar o MySQL Connector que é uma biblioteca responsável por conectar-se e fazer modificações no banco de dados.\n",
    "\n",
    "Para tanto, execute o comando no terminal:\n",
    "\n",
    "![mysqlconnector](img/mysqlconnector.png)\n",
    "\n",
    "Após isso iremos criarum arquivo chamado **db_connector.py** que será responsável pela conexão com o banco:"
   ]
  },
  {
   "cell_type": "code",
   "execution_count": null,
   "metadata": {},
   "outputs": [],
   "source": [
    "import mysql.connector\n",
    "\n",
    "class DatabaseConnection:\n",
    "    def __init__(self, config:dict):\n",
    "        self.config = config\n",
    "        self.connection = None"
   ]
  },
  {
   "cell_type": "markdown",
   "metadata": {},
   "source": [
    "No código anterior, importamos a biblioteca mysql.connector e vamos usar a orientação a objetos em python para melhor organizar nosso código.\n",
    "\n",
    "Note que usei apenas um atributo a ser recebido na nossa classe que é **config** esse atributo será um dicionário com as credenciais para acessar o banco de dados."
   ]
  },
  {
   "cell_type": "code",
   "execution_count": null,
   "metadata": {},
   "outputs": [],
   "source": [
    "config = {\n",
    "    'user': '',\n",
    "    'password': '',\n",
    "    'host': '',\n",
    "    'database': '',\n",
    "    'port': 3306\n",
    "}"
   ]
  },
  {
   "cell_type": "markdown",
   "metadata": {},
   "source": [
    "Já o segundo atributo e a nossa conexão e ela será alterada de \"estado\" pelos nossos métodos a seguir:"
   ]
  },
  {
   "cell_type": "code",
   "execution_count": null,
   "metadata": {},
   "outputs": [],
   "source": [
    "    def __enter__(self):\n",
    "        self.connection = mysql.connector.connect(**self.config)\n",
    "        return self.connection\n",
    "    def __exit__(self, exc_type, exc_value, traceback):\n",
    "        if self.connection:\n",
    "            self.connection.close()"
   ]
  },
  {
   "cell_type": "markdown",
   "metadata": {},
   "source": [
    "Esse 'dundder' __ enter __ fas parte do **protocolo de gerenciamento de contexto** e é usado em conjunto com a instrução \"with\".\n",
    "\n",
    "Quando implementamos o método citado, estamos definindo o que acontece ao entrar-mos no bloco \"with\". E isso garante que:\n",
    "\n",
    "- **Abertura e fechamento automático da conexão:** O método __ enter __ é chamado quando você entra no bloco with. Nesse método, você estabelece a conexão com o banco de dados. No final do bloco with, o método __exit__ é chamado, permitindo que você feche automaticamente a conexão. Isso ajuda a garantir que recursos, como conexões de banco de dados, sejam liberados corretamente, mesmo se ocorrerem exceções.\n",
    "\n",
    "- **Gerenciamento automático de exceções:** O método __ exit __ recebe informações sobre exceções (se ocorrerem) como argumentos. Isso permite que você implemente lógica para lidar com exceções, como fazer rollback em transações não confirmadas, antes de fechar a conexão."
   ]
  },
  {
   "cell_type": "code",
   "execution_count": null,
   "metadata": {},
   "outputs": [],
   "source": [
    "    def __exit__(self, exc_type, exc_value, traceback):\n",
    "        if self.connection:\n",
    "            self.connection.close()"
   ]
  },
  {
   "cell_type": "markdown",
   "metadata": {},
   "source": [
    "Agora vamos criar outro arquivo chamado **db_helper.py** que vai ser nosso executor de sódigo QUERY no nosso banco de dados.\n",
    "\n",
    "Primeiro importamos o módulo **db_connector** e usamos a orientação a objetos em python para organizar nosso código:"
   ]
  },
  {
   "cell_type": "code",
   "execution_count": null,
   "metadata": {},
   "outputs": [],
   "source": [
    "from db_connector import DatabaseConnection, config\n",
    "\n",
    "class DBHelper():\n",
    "    def __init__(self):\n",
    "        self.connection = None"
   ]
  },
  {
   "cell_type": "markdown",
   "metadata": {},
   "source": [
    "Note que nosso executor tem como argumento apenas o estado atual da conexão, sendo que os parâmetros de acesso ao banco já foram 'setados' na classe **DatabaseConnection**.\n",
    "\n",
    "Agora vamos instruir no código a execução de uma QUERY ao nosso banco de dados:"
   ]
  },
  {
   "cell_type": "code",
   "execution_count": null,
   "metadata": {},
   "outputs": [],
   "source": [
    "    def execute(self, sql):\n",
    "        with DatabaseConnection(config) as connection: #Necessário ao criar método enter.\n",
    "            cursor = connection.cursor()\n",
    "            cursor.execute(sql)\n",
    "            if sql.split()[0].upper() =='SELECT':\n",
    "                result = list()#ok\n",
    "                for row in cursor.fetchall():\n",
    "                    result.append(row)\n",
    "                connection.commit()\n",
    "                cursor.close()\n",
    "                return result\n",
    "            else:\n",
    "                connection.commit()\n",
    "                cursor.close()\n",
    "                return None"
   ]
  },
  {
   "cell_type": "markdown",
   "metadata": {},
   "source": [
    "No código acima temos uma funcção chamada **execute** com apenas um parâmetro **sql** que vai ser a 'query' a ser executada. No corpo da função usamos a instrução **\"with\"** que foi descrita quando instruimos o gerenciamento de estado com o 'dundder' __ enter __.\n",
    "\n",
    "Nela instanciamos a conexão com o banco de dados com o argumento **config** que são as chaves de acesso ao banco, e utilizamos o 'apelido' **connection** para essa instancia.\n",
    "\n",
    "Depois criamos o **cursor** que é o responsável por **\"selecionar\"** o que vai acontecer dentro do banco.\n",
    "\n",
    "E então executamos com o método **execute** o parâmetro sql.\n",
    "\n",
    "Agora teremos duas situações possíveis.\n",
    "\n",
    "Ou o banco retorna alguma coisa, ou não retorna nada.\n",
    "\n",
    "A única querry que retorna algo é a **SELECT** e para ela criamos a condicional 'if' e nela recebemos uma string do nosso parametro 'sql' e separamos as palavras dessa string com o método \"split\" e pegamos a primeira palavra separada. \n",
    "Se ela for \"SELECT\" então tratamos o retorno em uma lista, e encerramos  a conecção com a conexão e com o cursor.\n",
    "Se ela não for \"SELECT\" então fazemos o **\"salvamento\"** sem retornar nada."
   ]
  },
  {
   "cell_type": "markdown",
   "metadata": {},
   "source": [
    "## **Criando as funções de CRUD**\n",
    "\n",
    "Temos com sucesso os métodos de acesso e execução das nossas \"querys\", agora vamos criar as funções CRUD para o banco de dados.\n",
    "\n",
    "### **Estrutura básica:**\n",
    "\n",
    "Precisamos seguir a estrutura básica para inserir os dados no banco, que é:\n",
    "- Instanciar noddo **DBHelper** que vai conectar e executar a query.\n",
    "- Solicitar qual query será executada\n",
    "- Executar a query."
   ]
  },
  {
   "cell_type": "code",
   "execution_count": null,
   "metadata": {},
   "outputs": [],
   "source": [
    "def inserirTarefa(): #CREATE\n",
    "    print()\n",
    "    conn = DBHelper()\n",
    "    tarefa = input(\"Digite a tarefa a ser inserida: \")\n",
    "    sql = f\"INSERT INTO ew_todolist (id, tarefa, feito) VALUES (Null, '{tarefa}', 1)\"\n",
    "    conn.execute(sql)\n",
    "\n",
    "def listarTarefas(): # READ\n",
    "    print()\n",
    "    conn = DBHelper()\n",
    "    tarefas = conn.execute(\"SELECT * FROM ew_todolist\")\n",
    "    for task in tarefas:\n",
    "        if task[2]==0:\n",
    "            print(f\"\\x1b[9mId:{task[0]} | {task[1]} | FEITO \\x1b[0m\")\n",
    "        else:print(f\"Id:{task[0]} | {task[1]} \")\n",
    "\n",
    "def atualizarTarefa(): # UPDATE\n",
    "    print()\n",
    "    conn= DBHelper()\n",
    "    listarTarefas()\n",
    "    print()\n",
    "    id_tarefa = int(input(\"Digite o número da tarefa que deseja atualizar: \"))\n",
    "    tarefa = input(\"Digite a tarefa atualizada: \")\n",
    "    sql = conn.execute(f\"UPDATE ew_todolist SET tarefa={tarefa} WHERE id={id_tarefa}\") \n",
    "    print()\n",
    "    listarTarefas()\n",
    "\n",
    "def atualizarStatusTarefa(): # UPDATE\n",
    "    print()\n",
    "    conn= DBHelper()\n",
    "    listarTarefas()\n",
    "    print()\n",
    "    id_tarefa = int(input(\"Digite o número da tarefa que foi concluída: \"))\n",
    "    sql = conn.execute(f\"UPDATE ew_todolist SET feito=0 WHERE id={id_tarefa}\") \n",
    "    print()\n",
    "    listarTarefas()\n",
    "   \n",
    "def deletarTarefa(): # DELETE\n",
    "    print()\n",
    "    conn= DBHelper()\n",
    "    listarTarefas()\n",
    "    print()\n",
    "    id_tarefa = int(input(\"Digite o número da tarefa que deseja deletar: \"))\n",
    "    sql = conn.execute(f\"DELETE FROM ew_todolist WHERE id={id_tarefa}\") \n",
    "    print()\n",
    "    listarTarefas()"
   ]
  }
 ],
 "metadata": {
  "language_info": {
   "name": "python"
  }
 },
 "nbformat": 4,
 "nbformat_minor": 2
}
