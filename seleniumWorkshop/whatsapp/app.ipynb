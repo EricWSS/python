{
 "cells": [
  {
   "cell_type": "code",
   "execution_count": null,
   "metadata": {},
   "outputs": [],
   "source": [
    "from selenium import webdriver\n",
    "from selenium.webdriver.common.keys import Keys\n",
    "from selenium.webdriver.common.by import By\n",
    "import urllib\n",
    "from time import sleep\n",
    "navegador = webdriver.Chrome()\n",
    "navegador.get(f\"http://web.whatsapp.com/\")\n",
    "\n",
    "while len(navegador.find_elements(By.ID,'side',)) < 1: #Por padrão já é pelo ID\n",
    "    sleep(1)\n",
    "\n",
    "with open('numeros.txt', 'r') as arquivo:  \n",
    "    listaContatos = arquivo.read().splitlines()  #['Gui,5571997383764', 'Guga,5571996977776']\n",
    "\n",
    "    navegador.find_elements(By.ID, 'side')\n",
    "    for contato in listaContatos:\n",
    "        listaSepadaros = contato.split('|')\n",
    "        nome, telefone = listaSepadaros\n",
    "        try:\n",
    "            mensagemCodificado = urllib.parse.quote(\"A AULA DE SELENIUM FOI UM SUCESSO!!!\")\n",
    "            \n",
    "            link = f\"https://web.whatsapp.com/send?phone={telefone}&text={mensagemCodificado}\"\n",
    "            navegador.get(link)\n",
    "            while len(navegador.find_elements(By.ID,'side',)) < 1: #Por padrão já é pelo ID\n",
    "                sleep(1)\n",
    "\n",
    "            xpathMensagem = '//*[@id=\"main\"]/footer/div[1]/div/span[2]/div/div[2]/div[2]/button/span'\n",
    "            sleep(5)\n",
    "            navegador.find_element(By.XPATH, xpathMensagem).click()\n",
    "            sleep(12)\n",
    "        except Exception as e:\n",
    "            print(f\"Ocorreu um erro inesperado: {e}\")\n",
    "\n",
    "\n",
    "    # WebDriverWait(navegador, 15).until(EC.presence_of_element_located((By.ID, 'side')))\n",
    "    # Guga|5571996977776  Gui|5571997383764"
   ]
  }
 ],
 "metadata": {
  "language_info": {
   "name": "python"
  }
 },
 "nbformat": 4,
 "nbformat_minor": 2
}
