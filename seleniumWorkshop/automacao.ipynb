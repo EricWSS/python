{
 "cells": [
  {
   "cell_type": "markdown",
   "metadata": {},
   "source": [
    "# **Automatização de tarefas com Python.**\n",
    "\n",
    "## **Introdução à automação de tarefas e sua importância.**\n",
    "\n",
    "Python, uma das linguagens de programação mais populares, tem se destacado como uma escolha de destaque para a automação de tarefas devido à sua facilidade de aprendizado e uma vasta gama de bibliotecas e frameworks voltados para essa finalidade. A flexibilidade do Python o torna adequado para uma variedade de campos de atuação, e uma série de frameworks estão disponíveis para abordar diferentes aspectos da automação.\n",
    "\n",
    "\n",
    "Alguns dos principais frameworks para automação em Python incluem:\n",
    "\n",
    "1. **Selenium:** Amplamente utilizado para automação de tarefas na web, o Selenium permite a interação com páginas da web, preenchimento de formulários, extração de informações e testes de funcionalidades em aplicativos web.\n",
    "2. **Openpyxl:** Para automação relacionada a planilhas Excel, o Openpyxl facilita a leitura, escrita e manipulação de dados em planilhas, tornando-o valioso para tarefas de análise e relatórios.\n",
    "3. **PyAutoGUI:** Essa biblioteca é útil para simular ações do mouse e do teclado, tornando possível automatizar tarefas que envolvem interações diretas com a interface do usuário.\n",
    "4. **Airflow:** Especialmente voltado para o agendamento e automação de fluxos de trabalho, o Airflow é amplamente utilizado na engenharia de dados, ETL, geração de relatórios e muito mais.\n",
    "5. **Requests:** Para automação de tarefas de integração de sistemas, o Requests é essencial. Ele permite fazer requisições HTTP e interagir com APIs de maneira programática.\n",
    "6. **Beautiful Soup:** Quando se trata de automação de extração de dados de páginas da web, o Beautiful Soup é um framework importante. Ele auxilia na análise de HTML e na extração de informações.\n",
    "\n",
    "\n",
    "## **Documentação**\n",
    "\n",
    "Ler a documentação do Selenium é crucial para aproveitar suas capacidades. A documentação oferece insights detalhados, exemplos e soluções para desafios comuns. Para explorar, acesse os links abaixo:\n",
    "\n",
    "- [https://selenium-python.readthedocs.io](https://selenium-python.readthedocs.io/)\n",
    "\n",
    "\n",
    "## **Configuração do ambiente de desenvolvimento Python.**\n",
    "\n",
    "### Instalação do Pip:\n",
    "\n",
    "![Untitled](https://prod-files-secure.s3.us-west-2.amazonaws.com/146ef436-ba48-4dff-8f89-05c8174156fb/23584a15-56ba-4dd8-a15d-7472bf20d853/Untitled.png)\n",
    "\n",
    "### **WebDriver:**\n",
    "\n",
    "O Selenium requer um WebDriver específico para o navegador que você deseja automatizar. Você pode usar o WebDriver para o Chrome, Firefox, Edge, etc. Certifique-se de fazer o download do WebDriver compatível com a versão do navegador que você está usando. Por exemplo, se estiver usando o Google Chrome, você pode fazer o download do ChromeDriver no site oficial: https://sites.google.com/chromium.org/driver/downloads.\n",
    "\n",
    "### **Sobre o WebDriver:**\n",
    "\n",
    "O WebDriver é uma interface de programação que permite a automação de interações com navegadores da web. Ele é usado em conjunto com frameworks de automação, como o Selenium, para controlar navegadores e realizar ações automatizadas.\n",
    "\n",
    "Para cada navegador existe um WebDriver diferente, para nossa aula, utilizaremos o do navegador Chrome.\n",
    "\n",
    "Atualmente não se faz necessário instalar o pacote WebDriver na maquina ao usar o Chrome então o código abaixo funciona normalmente:\n"
   ]
  },
  {
   "cell_type": "code",
   "execution_count": null,
   "metadata": {},
   "outputs": [],
   "source": [
    "from selenium import webdriver\n",
    "\n",
    "# Abrindo o navegador:\n",
    "navegador = webdriver.Chrome()\n",
    "\n",
    "# Abrindo o site goole.com\n",
    "navegador.get(\"https://google.com\")"
   ]
  },
  {
   "cell_type": "markdown",
   "metadata": {},
   "source": [
    "Caso não consiga veremos o que há de errado para correção.\n",
    "\n",
    "Uma possibilidade seja a versão do navegador que está desatualizada.\n",
    "\n",
    "Para isso teremos que baixar o WebDriver no link: https://googlechromelabs.github.io/chrome-for-testing/"
   ]
  },
  {
   "cell_type": "code",
   "execution_count": null,
   "metadata": {},
   "outputs": [],
   "source": [
    "from selenium import webdriver\n",
    "\n",
    "# Substitua \"caminho_para_o_chromedriver.exe\" pelo caminho real do seu ChromeDriver\n",
    "caminho_chromedriver = \"caminho/para/o/seu/diretorio/chromedriver.exe\"\n",
    "\n",
    "# Abrindo o navegador:\n",
    "navegador = webdriver.Chrome(executable_path=caminho_chromedriver)"
   ]
  },
  {
   "cell_type": "markdown",
   "metadata": {},
   "source": [
    "## **Identificando elementos nna página.**\n",
    "\n",
    "Vamos aprender a identificar elementos no site.\n",
    "\n",
    "No Selenium, a identificação de elementos na página é uma parte essencial da automação web. Aqui está um resumo de como você pode identificar elementos utilizando diferentes estratégias:\n",
    "\n",
    "### **Localizar elemento por ID:**\n",
    "\n",
    "elemento = driver.find_element_by_id(\"id_do_elemento\")\n",
    "\n",
    "### **Localizar elemento por classe:**\n",
    "\n",
    "elemento = driver.find_element_by_class_name(\"nome_da_classe\")\n",
    "\n",
    "### **Localizar elemento por XPath**\n",
    "\n",
    "elemento = driver.find_element_by_xpath(\"//xpath_do_elemento\")\n",
    "\n",
    "### **Utilizando o By**\n",
    "\n",
    "Um método mais eficiente de localização de um elemento na página é utilizando o By:"
   ]
  },
  {
   "cell_type": "code",
   "execution_count": null,
   "metadata": {},
   "outputs": [],
   "source": [
    "from selenium.webdriver.common.by import By"
   ]
  },
  {
   "cell_type": "markdown",
   "metadata": {},
   "source": [
    "Com esse método fica mais simples de organizar e manipular os elementos da página.\n",
    "\n",
    "Podemos inclusive verificar todos os ‘inputs’ e testar entradas neles:"
   ]
  },
  {
   "cell_type": "code",
   "execution_count": null,
   "metadata": {},
   "outputs": [],
   "source": [
    "# Obter todos os elementos <input> na página\n",
    "inputs = driver.find_elements(By.TAG_NAME, \"input\")\n",
    "\n",
    "#Iterando sobre os inputs\n",
    "for i in inputs:\n",
    "    inputs[i].send_keys(f\"{i}\")"
   ]
  },
  {
   "cell_type": "markdown",
   "metadata": {},
   "source": [
    "Porém o método mais utilizado é o XPatH:"
   ]
  },
  {
   "cell_type": "code",
   "execution_count": null,
   "metadata": {},
   "outputs": [],
   "source": [
    "navegador.find_element(By.XPATH, '//*[@id=\"submit-btn\"]').click()"
   ]
  },
  {
   "cell_type": "markdown",
   "metadata": {},
   "source": [
    "Os métodos podem variar, mas o passo a passo para manipulação com selenium é o mesmo:\n",
    "\n",
    "1. Identificar o item na página.\n",
    "2. Extraí-lo como variável.\n",
    "3. Executar ação.\n",
    "\n",
    "\n",
    "## **Mão no código!**\n",
    "\n",
    "Acesse o site: [https://seleniumshop.vercel.app](https://seleniumshop.vercel.app/) e tente automatizar o envio de um formulário com um arquivo txt que está no github:  https://raw.githubusercontent.com/EricWSS/python/main/seleniumWorkshop/nomes.txt\n",
    "\n",
    "## **Primeiras linhas de código: **"
   ]
  },
  {
   "cell_type": "code",
   "execution_count": null,
   "metadata": {},
   "outputs": [],
   "source": [
    "from selenium import webdriver\n",
    "from selenium.webdriver.common.by import By\n",
    "from time import sleep\n",
    "navegador = webdriver.Chrome()"
   ]
  },
  {
   "cell_type": "markdown",
   "metadata": {},
   "source": [
    "Como vamos manipular um arquivo existente, usaremos a instrução ‘with‘ que fica assim no código:"
   ]
  },
  {
   "cell_type": "code",
   "execution_count": null,
   "metadata": {},
   "outputs": [],
   "source": [
    "with open('nomes.txt', 'r+') as arquivo:\n",
    "    linhas = arquivo.readlines()"
   ]
  },
  {
   "cell_type": "markdown",
   "metadata": {},
   "source": [
    "Agora precisamos iterar sobre as linhas do arquivo:"
   ]
  },
  {
   "cell_type": "code",
   "execution_count": null,
   "metadata": {},
   "outputs": [],
   "source": [
    "for linha in linhas:\n",
    "    # Divide a linha em partes usando a vírgula como separador\n",
    "    partes = linha.strip().split(\", \")"
   ]
  },
  {
   "cell_type": "markdown",
   "metadata": {},
   "source": [
    "E agora vamos usar o ‘desempacotamento’ nas ‘partes’:"
   ]
  },
  {
   "cell_type": "code",
   "execution_count": null,
   "metadata": {},
   "outputs": [],
   "source": [
    "# Extrai as informações com desempacotamento\n",
    "nome, telefone, email, data_nascimento, rg, cpf = partes"
   ]
  },
  {
   "cell_type": "markdown",
   "metadata": {},
   "source": [
    "Agora vamos localizar os elementos na página, e enviar. Deixo essa com vocês…\n",
    "\n",
    "...\n",
    "\n",
    "## **Manuseio de Exceções:**\n",
    "\n",
    "Outra coisa importante em se tratando de automação é tratar os erros que aparecem no caminho e fazemos isso com a instrução ‘try | except’."
   ]
  },
  {
   "cell_type": "code",
   "execution_count": null,
   "metadata": {},
   "outputs": [],
   "source": [
    "from selenium import webdriver\n",
    "\n",
    "try:\n",
    "    # Inicializar o driver do Chrome\n",
    "    driver = webdriver.Chrome()\n",
    "\n",
    "    # Abrir a página da web\n",
    "    driver.get(\"https://google.com\")\n",
    "\n",
    "    # Tentar encontrar um elemento na página (usando um seletor não existente)\n",
    "    elemento = driver.find_element_by_css_selector(\"#elemento_inexistente\")\n",
    "\n",
    "except Exception as e:\n",
    "    print(f\"Ocorreu um erro inesperado: {e}\")\n",
    "\n",
    "finally:\n",
    "    # Fechar o navegador, independentemente de qualquer exceção\n",
    "    driver.quit()"
   ]
  },
  {
   "cell_type": "markdown",
   "metadata": {},
   "source": [
    "# **CÓDIGO FINALIZADO**"
   ]
  },
  {
   "cell_type": "code",
   "execution_count": null,
   "metadata": {},
   "outputs": [],
   "source": [
    "from selenium import webdriver\n",
    "from selenium.webdriver.common.by import By\n",
    "from time import sleep\n",
    "\n",
    "    \n",
    "# Main Script\n",
    "navegador = webdriver.Chrome()\n",
    "navegador.get(\"https://seleniumshop.vercel.app\")\n",
    "\n",
    "with open('nomes.txt', 'r') as arquivo:\n",
    "    linhas = arquivo.readlines()\n",
    "\n",
    "# Itera sobre as linhas do arquivo\n",
    "for linha in linhas:\n",
    "    partes = linha.strip().split(\", \")\n",
    "    \n",
    "    try:\n",
    "        nome, telefone, email, data_nascimento, rg, cpf = partes\n",
    "        sleep(3)\n",
    "        navegador.find_element(By.XPATH, '//*[@id=\"nomeCompleto\"]').send_keys(nome)\n",
    "        navegador.find_element(By.XPATH, '//*[@id=\"telefone\"]').send_keys(telefone)\n",
    "        navegador.find_element(By.XPATH, '//*[@id=\"email\"]').send_keys(email)\n",
    "        navegador.find_element(By.XPATH, '//*[@id=\"dataNascimento\"]').send_keys(data_nascimento)\n",
    "        navegador.find_element(By.XPATH, '//*[@id=\"rg\"]').send_keys(rg)\n",
    "        navegador.find_element(By.XPATH, '//*[@id=\"cpf\"]').send_keys(cpf)\n",
    "\n",
    "        sleep(3)\n",
    "        navegador.find_element(By.XPATH, '//*[@id=\"rg\"]').click()\n",
    "\n",
    "        sleep(3)\n",
    "        if not navegador.find_element(By.XPATH, '//*[@id=\"erro\"]').text:\n",
    "            navegador.find_element(By.XPATH, '//*[@id=\"botaoEnviar\"]').click()\n",
    "        else:\n",
    "            with open(\"erros.txt\", \"a\") as arquivoErros:\n",
    "                arquivoErros.write(f\"{nome}, {telefone}, {email}, {data_nascimento}, {rg}, {cpf} com problema\\n\")\n",
    "                print(f\"{nome}, {telefone}, {email}, {data_nascimento}, {rg}, {cpf} com problema\\n\")\n",
    "                \n",
    "                # Restart the browser for a new attempt\n",
    "                navegador.quit()\n",
    "                navegador = webdriver.Chrome()\n",
    "                navegador.get(\"https://seleniumshop.vercel.app\")\n",
    "\n",
    "\n",
    "    except Exception as e:\n",
    "        with open(\"erros.txt\", \"a\") as arquivoErros:\n",
    "            arquivoErros.write(f\"Erro ao processar linha: {linha}. Erro: {e}\\n\")\n",
    "            print(f\"Erro ao processar linha: {linha}. Erro: {e}\\n\")\n",
    "\n"
   ]
  },
  {
   "cell_type": "markdown",
   "metadata": {},
   "source": [
    "# **BÔNUS**"
   ]
  },
  {
   "cell_type": "code",
   "execution_count": null,
   "metadata": {},
   "outputs": [],
   "source": [
    "from selenium import webdriver\n",
    "from selenium.webdriver.common.keys import Keys\n",
    "from selenium.webdriver.common.by import By\n",
    "import urllib\n",
    "from time import sleep\n",
    "navegador = webdriver.Chrome()\n",
    "navegador.get(f\"http://web.whatsapp.com/\")\n",
    "\n",
    "while len(navegador.find_elements(By.ID,'side',)) < 1: #Por padrão já é pelo ID\n",
    "    sleep(1)\n",
    "\n",
    "with open('numeros.txt', 'r') as arquivo:  \n",
    "    listaContatos = arquivo.read().splitlines()  #['Gui,5571997383764', 'Guga,5571996977776']\n",
    "\n",
    "    navegador.find_elements(By.ID, 'side')\n",
    "    for contato in listaContatos:\n",
    "        listaSepadaros = contato.split('|')\n",
    "        nome, telefone = listaSepadaros\n",
    "        try:\n",
    "            mensagemCodificado = urllib.parse.quote(\"A AULA DE SELENIUM FOI UM SUCESSO!!!\")\n",
    "            \n",
    "            link = f\"https://web.whatsapp.com/send?phone={telefone}&text={mensagemCodificado}\"\n",
    "            navegador.get(link)\n",
    "            while len(navegador.find_elements(By.ID,'side',)) < 1: #Por padrão já é pelo ID\n",
    "                sleep(1)\n",
    "\n",
    "            xpathMensagem = '//*[@id=\"main\"]/footer/div[1]/div/span[2]/div/div[2]/div[2]/button/span'\n",
    "            sleep(5)\n",
    "            navegador.find_element(By.XPATH, xpathMensagem).click()\n",
    "            sleep(12)\n",
    "        except Exception as e:\n",
    "            print(f\"Ocorreu um erro inesperado: {e}\")\n",
    "\n"
   ]
  }
 ],
 "metadata": {
  "kernelspec": {
   "display_name": "Python 3",
   "language": "python",
   "name": "python3"
  },
  "language_info": {
   "codemirror_mode": {
    "name": "ipython",
    "version": 3
   },
   "file_extension": ".py",
   "mimetype": "text/x-python",
   "name": "python",
   "nbconvert_exporter": "python",
   "pygments_lexer": "ipython3",
   "version": "3.12.0"
  }
 },
 "nbformat": 4,
 "nbformat_minor": 2
}
