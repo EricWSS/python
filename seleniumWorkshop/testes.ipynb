{
 "cells": [
  {
   "cell_type": "code",
   "execution_count": 19,
   "metadata": {},
   "outputs": [
    {
     "name": "stdout",
     "output_type": "stream",
     "text": [
      "eric wesley\n",
      "eric wesley\n",
      "eric wesley\n"
     ]
    },
    {
     "ename": "KeyboardInterrupt",
     "evalue": "",
     "output_type": "error",
     "traceback": [
      "\u001b[1;31m---------------------------------------------------------------------------\u001b[0m",
      "\u001b[1;31mKeyboardInterrupt\u001b[0m                         Traceback (most recent call last)",
      "\u001b[1;32mf:\\programming things\\selenium\\testes.ipynb Cell 1\u001b[0m line \u001b[0;36m3\n\u001b[0;32m     <a href='vscode-notebook-cell:/f%3A/programming%20things/selenium/testes.ipynb#W0sZmlsZQ%3D%3D?line=26'>27</a>\u001b[0m navegador\u001b[39m.\u001b[39mfind_element(By\u001b[39m.\u001b[39mXPATH, \u001b[39m'\u001b[39m\u001b[39m//*[@id=\u001b[39m\u001b[39m\"\u001b[39m\u001b[39mrg\u001b[39m\u001b[39m\"\u001b[39m\u001b[39m]\u001b[39m\u001b[39m'\u001b[39m)\u001b[39m.\u001b[39msend_keys(rg)\n\u001b[0;32m     <a href='vscode-notebook-cell:/f%3A/programming%20things/selenium/testes.ipynb#W0sZmlsZQ%3D%3D?line=27'>28</a>\u001b[0m navegador\u001b[39m.\u001b[39mfind_element(By\u001b[39m.\u001b[39mXPATH, \u001b[39m'\u001b[39m\u001b[39m//*[@id=\u001b[39m\u001b[39m\"\u001b[39m\u001b[39mcpf\u001b[39m\u001b[39m\"\u001b[39m\u001b[39m]\u001b[39m\u001b[39m'\u001b[39m)\u001b[39m.\u001b[39msend_keys(cpf)\n\u001b[1;32m---> <a href='vscode-notebook-cell:/f%3A/programming%20things/selenium/testes.ipynb#W0sZmlsZQ%3D%3D?line=29'>30</a>\u001b[0m sleep(\u001b[39m3\u001b[39;49m)\n\u001b[0;32m     <a href='vscode-notebook-cell:/f%3A/programming%20things/selenium/testes.ipynb#W0sZmlsZQ%3D%3D?line=30'>31</a>\u001b[0m \u001b[39m# if navegador.find_element(By.XPATH, '//*[@id=\"botaoEnviar\"]').is_displayed():\u001b[39;00m\n\u001b[0;32m     <a href='vscode-notebook-cell:/f%3A/programming%20things/selenium/testes.ipynb#W0sZmlsZQ%3D%3D?line=31'>32</a>\u001b[0m navegador\u001b[39m.\u001b[39mfind_element(By\u001b[39m.\u001b[39mXPATH, \u001b[39m'\u001b[39m\u001b[39m//*[@id=\u001b[39m\u001b[39m\"\u001b[39m\u001b[39mbotaoEnviar\u001b[39m\u001b[39m\"\u001b[39m\u001b[39m]\u001b[39m\u001b[39m'\u001b[39m)\u001b[39m.\u001b[39mclick()\n",
      "\u001b[1;31mKeyboardInterrupt\u001b[0m: "
     ]
    }
   ],
   "source": [
    "from selenium import webdriver\n",
    "from selenium.webdriver.common.by import By\n",
    "from time import sleep\n",
    "navegador = webdriver.Chrome()\n",
    "\n",
    "navegador.get(\"http://127.0.0.1:5500/programming%20things/selenium/index.html\")\n",
    "\n",
    "with open('nomes.txt', 'r+') as arquivo:\n",
    "    linhas = arquivo.readlines()\n",
    "    # navegador.find_element(By.XPATH, '//*[@id=\"nomeCompleto\"]').send_keys(nome)\n",
    "\n",
    "# Itera sobre as linhas do arquivo\n",
    "for linha in linhas:\n",
    "    # Divide a linha em partes usando a vírgula como separador\n",
    "    partes = linha.strip().split(\", \")\n",
    "    \n",
    "    # Extrai as informações com desempacotamento\n",
    "    nome, telefone, email, data_nascimento, rg, cpf = partes\n",
    "    print(nome)\n",
    "    ##### Agora localizar os elementos na página:\n",
    "\n",
    "    # Nome completo: \n",
    "    navegador.find_element(By.XPATH, '//*[@id=\"nomeCompleto\"]').send_keys(nome)\n",
    "    navegador.find_element(By.XPATH, '//*[@id=\"telefone\"]').send_keys(telefone)\n",
    "    navegador.find_element(By.XPATH, '//*[@id=\"email\"]').send_keys(email)\n",
    "    navegador.find_element(By.XPATH, '//*[@id=\"dataNascimento\"]').send_keys(data_nascimento)\n",
    "    navegador.find_element(By.XPATH, '//*[@id=\"rg\"]').send_keys(rg)\n",
    "    navegador.find_element(By.XPATH, '//*[@id=\"cpf\"]').send_keys(cpf)\n",
    "    \n",
    "    sleep(3)\n",
    "    # if navegador.find_element(By.XPATH, '//*[@id=\"botaoEnviar\"]').is_displayed():\n",
    "    navegador.find_element(By.XPATH, '//*[@id=\"botaoEnviar\"]').click()\n",
    "\n",
    "    ######################################### VERSÃO ONDE SÓ TERIA CPF BOM ########################################\n",
    "\n",
    "\n",
    "\n",
    "\n"
   ]
  },
  {
   "cell_type": "code",
   "execution_count": 25,
   "metadata": {},
   "outputs": [
    {
     "name": "stdout",
     "output_type": "stream",
     "text": [
      "eric wesley\n",
      "eric wesley\n"
     ]
    },
    {
     "ename": "ValueError",
     "evalue": "I/O operation on closed file.",
     "output_type": "error",
     "traceback": [
      "\u001b[1;31m---------------------------------------------------------------------------\u001b[0m",
      "\u001b[1;31mValueError\u001b[0m                                Traceback (most recent call last)",
      "\u001b[1;32mf:\\programming things\\selenium\\testes.ipynb Cell 2\u001b[0m line \u001b[0;36m3\n\u001b[0;32m     <a href='vscode-notebook-cell:/f%3A/programming%20things/selenium/testes.ipynb#W2sZmlsZQ%3D%3D?line=36'>37</a>\u001b[0m     navegador\u001b[39m.\u001b[39mfind_element(By\u001b[39m.\u001b[39mXPATH, \u001b[39m'\u001b[39m\u001b[39m//*[@id=\u001b[39m\u001b[39m\"\u001b[39m\u001b[39mbotaoEnviar\u001b[39m\u001b[39m\"\u001b[39m\u001b[39m]\u001b[39m\u001b[39m'\u001b[39m)\u001b[39m.\u001b[39mclick()\n\u001b[0;32m     <a href='vscode-notebook-cell:/f%3A/programming%20things/selenium/testes.ipynb#W2sZmlsZQ%3D%3D?line=37'>38</a>\u001b[0m \u001b[39melse\u001b[39;00m:\n\u001b[1;32m---> <a href='vscode-notebook-cell:/f%3A/programming%20things/selenium/testes.ipynb#W2sZmlsZQ%3D%3D?line=38'>39</a>\u001b[0m     arquivoErros\u001b[39m.\u001b[39;49mwrite(\u001b[39mf\u001b[39;49m\u001b[39m\"\u001b[39;49m\u001b[39m{\u001b[39;49;00mnome\u001b[39m}\u001b[39;49;00m\u001b[39m, \u001b[39;49m\u001b[39m{\u001b[39;49;00mtelefone\u001b[39m}\u001b[39;49;00m\u001b[39m, \u001b[39;49m\u001b[39m{\u001b[39;49;00memail\u001b[39m}\u001b[39;49;00m\u001b[39m, \u001b[39;49m\u001b[39m{\u001b[39;49;00mdata_nascimento\u001b[39m}\u001b[39;49;00m\u001b[39m, \u001b[39;49m\u001b[39m{\u001b[39;49;00mrg\u001b[39m}\u001b[39;49;00m\u001b[39m, \u001b[39;49m\u001b[39m{\u001b[39;49;00mcpf\u001b[39m}\u001b[39;49;00m\u001b[39m com problema\u001b[39;49m\u001b[39m\\n\u001b[39;49;00m\u001b[39m\"\u001b[39;49m)\n\u001b[0;32m     <a href='vscode-notebook-cell:/f%3A/programming%20things/selenium/testes.ipynb#W2sZmlsZQ%3D%3D?line=39'>40</a>\u001b[0m     \u001b[39mprint\u001b[39m((\u001b[39mf\u001b[39m\u001b[39m\"\u001b[39m\u001b[39m{\u001b[39;00mnome\u001b[39m}\u001b[39;00m\u001b[39m, \u001b[39m\u001b[39m{\u001b[39;00mtelefone\u001b[39m}\u001b[39;00m\u001b[39m, \u001b[39m\u001b[39m{\u001b[39;00memail\u001b[39m}\u001b[39;00m\u001b[39m, \u001b[39m\u001b[39m{\u001b[39;00mdata_nascimento\u001b[39m}\u001b[39;00m\u001b[39m, \u001b[39m\u001b[39m{\u001b[39;00mrg\u001b[39m}\u001b[39;00m\u001b[39m, \u001b[39m\u001b[39m{\u001b[39;00mcpf\u001b[39m}\u001b[39;00m\u001b[39m com problema\u001b[39m\u001b[39m\\n\u001b[39;00m\u001b[39m\"\u001b[39m))\n\u001b[0;32m     <a href='vscode-notebook-cell:/f%3A/programming%20things/selenium/testes.ipynb#W2sZmlsZQ%3D%3D?line=40'>41</a>\u001b[0m \u001b[39m######################################### VERSÃO COM CPF RUIMMMMM ########################################\u001b[39;00m\n",
      "\u001b[1;31mValueError\u001b[0m: I/O operation on closed file."
     ]
    }
   ],
   "source": [
    "from selenium import webdriver\n",
    "from selenium.webdriver.common.by import By\n",
    "from time import sleep\n",
    "navegador = webdriver.Chrome()\n",
    "\n",
    "navegador.get(\"http://127.0.0.1:5500/programming%20things/selenium/indes.html\")\n",
    "\n",
    "with open('nomes.txt', 'r+') as arquivo:\n",
    "    linhas = arquivo.readlines()\n",
    "    # navegador.find_element(By.XPATH, '//*[@id=\"nomeCompleto\"]').send_keys(nome)\n",
    "\n",
    "################ arquivo que armazena os erros\n",
    "with open(\"erros.txt\", \"r+\") as arquivoErros:\n",
    "    erro = arquivoErros.read().splitlines()\n",
    "################ arquivo que armazena os erros\n",
    "\n",
    "# Itera sobre as linhas do arquivo\n",
    "for linha in linhas:\n",
    "    # Divide a linha em partes usando a vírgula como separador\n",
    "    partes = linha.strip().split(\", \")\n",
    "    \n",
    "    # Extrai as informações com desempacotamento\n",
    "    nome, telefone, email, data_nascimento, rg, cpf = partes\n",
    "    print(nome)\n",
    "    ##### Agora localizar os elementos na página:\n",
    "\n",
    "    # Nome completo: \n",
    "    navegador.find_element(By.XPATH, '//*[@id=\"nomeCompleto\"]').send_keys(nome)\n",
    "    navegador.find_element(By.XPATH, '//*[@id=\"telefone\"]').send_keys(telefone)\n",
    "    navegador.find_element(By.XPATH, '//*[@id=\"email\"]').send_keys(email)\n",
    "    navegador.find_element(By.XPATH, '//*[@id=\"dataNascimento\"]').send_keys(data_nascimento)\n",
    "    navegador.find_element(By.XPATH, '//*[@id=\"rg\"]').send_keys(rg)\n",
    "    navegador.find_element(By.XPATH, '//*[@id=\"cpf\"]').send_keys(cpf)\n",
    "    \n",
    "    sleep(3)\n",
    "    if  navegador.find_element(By.XPATH, '//*[@id=\"erro\"]').text == '' : # ou \"not navegador.find_element(By.XPATH, '//*[@id=\"erro\"]').text\"\n",
    "        navegador.find_element(By.XPATH, '//*[@id=\"botaoEnviar\"]').click()\n",
    "    else:\n",
    "        arquivoErros.write(f\"{nome}, {telefone}, {email}, {data_nascimento}, {rg}, {cpf} com problema\\n\")\n",
    "        print((f\"{nome}, {telefone}, {email}, {data_nascimento}, {rg}, {cpf} com problema\\n\"))\n",
    "    ######################################### VERSÃO COM CPF RUIMMMMM ########################################\n",
    "\n",
    "\n",
    "\n",
    "\n"
   ]
  },
  {
   "cell_type": "code",
   "execution_count": 5,
   "metadata": {},
   "outputs": [
    {
     "name": "stdout",
     "output_type": "stream",
     "text": [
      "eric wesley\n",
      "eric wesley, 71987179700, email@gmail.com, 23/08/1995, 1163129987, 04312936755 com problema\n",
      "\n",
      "eric wesley\n",
      "eric wesley\n",
      "eric wesley\n"
     ]
    },
    {
     "ename": "NoSuchWindowException",
     "evalue": "Message: no such window: target window already closed\nfrom unknown error: web view not found\n  (Session info: chrome=119.0.6045.160)\nStacktrace:\n\tGetHandleVerifier [0x00007FF79ED582B2+55298]\n\t(No symbol) [0x00007FF79ECC5E02]\n\t(No symbol) [0x00007FF79EB805AB]\n\t(No symbol) [0x00007FF79EB60038]\n\t(No symbol) [0x00007FF79EBE6BC7]\n\t(No symbol) [0x00007FF79EBFA15F]\n\t(No symbol) [0x00007FF79EBE1E83]\n\t(No symbol) [0x00007FF79EBB670A]\n\t(No symbol) [0x00007FF79EBB7964]\n\tGetHandleVerifier [0x00007FF79F0D0AAB+3694587]\n\tGetHandleVerifier [0x00007FF79F12728E+4048862]\n\tGetHandleVerifier [0x00007FF79F11F173+4015811]\n\tGetHandleVerifier [0x00007FF79EDF47D6+695590]\n\t(No symbol) [0x00007FF79ECD0CE8]\n\t(No symbol) [0x00007FF79ECCCF34]\n\t(No symbol) [0x00007FF79ECCD062]\n\t(No symbol) [0x00007FF79ECBD3A3]\n\tBaseThreadInitThunk [0x00007FFAC85C7344+20]\n\tRtlUserThreadStart [0x00007FFAC9E026B1+33]\n",
     "output_type": "error",
     "traceback": [
      "\u001b[1;31m---------------------------------------------------------------------------\u001b[0m",
      "\u001b[1;31mNoSuchWindowException\u001b[0m                     Traceback (most recent call last)",
      "\u001b[1;32mf:\\programming things\\selenium\\testes.ipynb Cell 3\u001b[0m line \u001b[0;36m3\n\u001b[0;32m     <a href='vscode-notebook-cell:/f%3A/programming%20things/selenium/testes.ipynb#W2sZmlsZQ%3D%3D?line=32'>33</a>\u001b[0m navegador\u001b[39m.\u001b[39mfind_element(By\u001b[39m.\u001b[39mXPATH, \u001b[39m'\u001b[39m\u001b[39m//*[@id=\u001b[39m\u001b[39m\"\u001b[39m\u001b[39mrg\u001b[39m\u001b[39m\"\u001b[39m\u001b[39m]\u001b[39m\u001b[39m'\u001b[39m)\u001b[39m.\u001b[39mclick()\n\u001b[0;32m     <a href='vscode-notebook-cell:/f%3A/programming%20things/selenium/testes.ipynb#W2sZmlsZQ%3D%3D?line=33'>34</a>\u001b[0m sleep(\u001b[39m3\u001b[39m)\n\u001b[1;32m---> <a href='vscode-notebook-cell:/f%3A/programming%20things/selenium/testes.ipynb#W2sZmlsZQ%3D%3D?line=34'>35</a>\u001b[0m \u001b[39mif\u001b[39;00m  navegador\u001b[39m.\u001b[39;49mfind_element(By\u001b[39m.\u001b[39;49mXPATH, \u001b[39m'\u001b[39;49m\u001b[39m//*[@id=\u001b[39;49m\u001b[39m\"\u001b[39;49m\u001b[39merro\u001b[39;49m\u001b[39m\"\u001b[39;49m\u001b[39m]\u001b[39;49m\u001b[39m'\u001b[39;49m)\u001b[39m.\u001b[39mtext \u001b[39m==\u001b[39m \u001b[39m'\u001b[39m\u001b[39m'\u001b[39m : \u001b[39m# ou \"not navegador.find_element(By.XPATH, '//*[@id=\"erro\"]').text\"\u001b[39;00m\n\u001b[0;32m     <a href='vscode-notebook-cell:/f%3A/programming%20things/selenium/testes.ipynb#W2sZmlsZQ%3D%3D?line=35'>36</a>\u001b[0m     navegador\u001b[39m.\u001b[39mfind_element(By\u001b[39m.\u001b[39mXPATH, \u001b[39m'\u001b[39m\u001b[39m//*[@id=\u001b[39m\u001b[39m\"\u001b[39m\u001b[39mbotaoEnviar\u001b[39m\u001b[39m\"\u001b[39m\u001b[39m]\u001b[39m\u001b[39m'\u001b[39m)\u001b[39m.\u001b[39mclick()\n\u001b[0;32m     <a href='vscode-notebook-cell:/f%3A/programming%20things/selenium/testes.ipynb#W2sZmlsZQ%3D%3D?line=36'>37</a>\u001b[0m \u001b[39melse\u001b[39;00m:\n\u001b[0;32m     <a href='vscode-notebook-cell:/f%3A/programming%20things/selenium/testes.ipynb#W2sZmlsZQ%3D%3D?line=37'>38</a>\u001b[0m     \u001b[39m################ arquivo que armazena os erros\u001b[39;00m\n",
      "File \u001b[1;32mc:\\Users\\Wesley\\AppData\\Local\\Programs\\Python\\Python312\\Lib\\site-packages\\selenium\\webdriver\\remote\\webdriver.py:741\u001b[0m, in \u001b[0;36mWebDriver.find_element\u001b[1;34m(self, by, value)\u001b[0m\n\u001b[0;32m    738\u001b[0m     by \u001b[39m=\u001b[39m By\u001b[39m.\u001b[39mCSS_SELECTOR\n\u001b[0;32m    739\u001b[0m     value \u001b[39m=\u001b[39m \u001b[39mf\u001b[39m\u001b[39m'\u001b[39m\u001b[39m[name=\u001b[39m\u001b[39m\"\u001b[39m\u001b[39m{\u001b[39;00mvalue\u001b[39m}\u001b[39;00m\u001b[39m\"\u001b[39m\u001b[39m]\u001b[39m\u001b[39m'\u001b[39m\n\u001b[1;32m--> 741\u001b[0m \u001b[39mreturn\u001b[39;00m \u001b[39mself\u001b[39;49m\u001b[39m.\u001b[39;49mexecute(Command\u001b[39m.\u001b[39;49mFIND_ELEMENT, {\u001b[39m\"\u001b[39;49m\u001b[39musing\u001b[39;49m\u001b[39m\"\u001b[39;49m: by, \u001b[39m\"\u001b[39;49m\u001b[39mvalue\u001b[39;49m\u001b[39m\"\u001b[39;49m: value})[\u001b[39m\"\u001b[39m\u001b[39mvalue\u001b[39m\u001b[39m\"\u001b[39m]\n",
      "File \u001b[1;32mc:\\Users\\Wesley\\AppData\\Local\\Programs\\Python\\Python312\\Lib\\site-packages\\selenium\\webdriver\\remote\\webdriver.py:347\u001b[0m, in \u001b[0;36mWebDriver.execute\u001b[1;34m(self, driver_command, params)\u001b[0m\n\u001b[0;32m    345\u001b[0m response \u001b[39m=\u001b[39m \u001b[39mself\u001b[39m\u001b[39m.\u001b[39mcommand_executor\u001b[39m.\u001b[39mexecute(driver_command, params)\n\u001b[0;32m    346\u001b[0m \u001b[39mif\u001b[39;00m response:\n\u001b[1;32m--> 347\u001b[0m     \u001b[39mself\u001b[39;49m\u001b[39m.\u001b[39;49merror_handler\u001b[39m.\u001b[39;49mcheck_response(response)\n\u001b[0;32m    348\u001b[0m     response[\u001b[39m\"\u001b[39m\u001b[39mvalue\u001b[39m\u001b[39m\"\u001b[39m] \u001b[39m=\u001b[39m \u001b[39mself\u001b[39m\u001b[39m.\u001b[39m_unwrap_value(response\u001b[39m.\u001b[39mget(\u001b[39m\"\u001b[39m\u001b[39mvalue\u001b[39m\u001b[39m\"\u001b[39m, \u001b[39mNone\u001b[39;00m))\n\u001b[0;32m    349\u001b[0m     \u001b[39mreturn\u001b[39;00m response\n",
      "File \u001b[1;32mc:\\Users\\Wesley\\AppData\\Local\\Programs\\Python\\Python312\\Lib\\site-packages\\selenium\\webdriver\\remote\\errorhandler.py:229\u001b[0m, in \u001b[0;36mErrorHandler.check_response\u001b[1;34m(self, response)\u001b[0m\n\u001b[0;32m    227\u001b[0m         alert_text \u001b[39m=\u001b[39m value[\u001b[39m\"\u001b[39m\u001b[39malert\u001b[39m\u001b[39m\"\u001b[39m]\u001b[39m.\u001b[39mget(\u001b[39m\"\u001b[39m\u001b[39mtext\u001b[39m\u001b[39m\"\u001b[39m)\n\u001b[0;32m    228\u001b[0m     \u001b[39mraise\u001b[39;00m exception_class(message, screen, stacktrace, alert_text)  \u001b[39m# type: ignore[call-arg]  # mypy is not smart enough here\u001b[39;00m\n\u001b[1;32m--> 229\u001b[0m \u001b[39mraise\u001b[39;00m exception_class(message, screen, stacktrace)\n",
      "\u001b[1;31mNoSuchWindowException\u001b[0m: Message: no such window: target window already closed\nfrom unknown error: web view not found\n  (Session info: chrome=119.0.6045.160)\nStacktrace:\n\tGetHandleVerifier [0x00007FF79ED582B2+55298]\n\t(No symbol) [0x00007FF79ECC5E02]\n\t(No symbol) [0x00007FF79EB805AB]\n\t(No symbol) [0x00007FF79EB60038]\n\t(No symbol) [0x00007FF79EBE6BC7]\n\t(No symbol) [0x00007FF79EBFA15F]\n\t(No symbol) [0x00007FF79EBE1E83]\n\t(No symbol) [0x00007FF79EBB670A]\n\t(No symbol) [0x00007FF79EBB7964]\n\tGetHandleVerifier [0x00007FF79F0D0AAB+3694587]\n\tGetHandleVerifier [0x00007FF79F12728E+4048862]\n\tGetHandleVerifier [0x00007FF79F11F173+4015811]\n\tGetHandleVerifier [0x00007FF79EDF47D6+695590]\n\t(No symbol) [0x00007FF79ECD0CE8]\n\t(No symbol) [0x00007FF79ECCCF34]\n\t(No symbol) [0x00007FF79ECCD062]\n\t(No symbol) [0x00007FF79ECBD3A3]\n\tBaseThreadInitThunk [0x00007FFAC85C7344+20]\n\tRtlUserThreadStart [0x00007FFAC9E026B1+33]\n"
     ]
    }
   ],
   "source": [
    "from selenium import webdriver\n",
    "from selenium.webdriver.common.by import By\n",
    "from time import sleep\n",
    "navegador = webdriver.Chrome()\n",
    "\n",
    "navegador.get(\"http://127.0.0.1:5500/programming%20things/selenium/indes.html\")\n",
    "\n",
    "with open('nomes.txt', 'r+') as arquivo:\n",
    "    linhas = arquivo.readlines()\n",
    "    # navegador.find_element(By.XPATH, '//*[@id=\"nomeCompleto\"]').send_keys(nome)\n",
    "\n",
    "\n",
    "\n",
    "# Itera sobre as linhas do arquivo\n",
    "for linha in linhas:\n",
    "    # Divide a linha em partes usando a vírgula como separador\n",
    "    partes = linha.strip().split(\", \")\n",
    "    \n",
    "    # Extrai as informações com desempacotamento\n",
    "    nome, telefone, email, data_nascimento, rg, cpf = partes\n",
    "    print(nome)\n",
    "    ##### Agora localizar os elementos na página:\n",
    "    sleep(3)\n",
    "    navegador.find_element(By.XPATH, '//*[@id=\"nomeCompleto\"]').send_keys(nome)\n",
    "    navegador.find_element(By.XPATH, '//*[@id=\"telefone\"]').send_keys(telefone)\n",
    "    navegador.find_element(By.XPATH, '//*[@id=\"email\"]').send_keys(email)\n",
    "    navegador.find_element(By.XPATH, '//*[@id=\"dataNascimento\"]').send_keys(data_nascimento)\n",
    "    navegador.find_element(By.XPATH, '//*[@id=\"rg\"]').send_keys(rg)\n",
    "    navegador.find_element(By.XPATH, '//*[@id=\"cpf\"]').send_keys(cpf)\n",
    "    \n",
    "    \n",
    "    sleep(3)\n",
    "    navegador.find_element(By.XPATH, '//*[@id=\"rg\"]').click()\n",
    "    sleep(3)\n",
    "    if  navegador.find_element(By.XPATH, '//*[@id=\"erro\"]').text == '' : # ou \"not navegador.find_element(By.XPATH, '//*[@id=\"erro\"]').text\"\n",
    "        navegador.find_element(By.XPATH, '//*[@id=\"botaoEnviar\"]').click()\n",
    "    else:\n",
    "        ################ arquivo que armazena os erros\n",
    "        with open(\"erros.txt\", \"r+\") as arquivoErros:\n",
    "            arquivoErros.write(f\"{nome}, {telefone}, {email}, {data_nascimento}, {rg}, {cpf} com problema\\n\")\n",
    "            print((f\"{nome}, {telefone}, {email}, {data_nascimento}, {rg}, {cpf} com problema\\n\"))\n",
    "            \n",
    "            navegador = webdriver.Chrome()\n",
    "            navegador.get('http://127.0.0.1:5500/programming%20things/selenium/indes.html')\n",
    "            \n",
    "        ################ arquivo que armazena os erros\n",
    "    ######################################### VERSÃO COM CPF RUIMMMMM ########################################\n",
    "\n",
    "\n",
    "\n",
    "\n"
   ]
  },
  {
   "cell_type": "markdown",
   "metadata": {},
   "source": [
    "<div id=\"erro\">CPF inválido</div>"
   ]
  },
  {
   "cell_type": "code",
   "execution_count": 13,
   "metadata": {},
   "outputs": [
    {
     "name": "stdout",
     "output_type": "stream",
     "text": [
      "['eric wesley, 71987179700, email@gmail.com, 23/08/1995, 1163129987, 04312298766\\n', 'eric wesley, 71987179700, email@gmail.com, 23/08/1995, 1163129987, 04312298766\\n', 'eric wesley, 71987179700, email@gmail.com, 23/08/1995, 1163129987, 04312298766']\n"
     ]
    }
   ],
   "source": [
    "with open('nomes.txt', 'r+') as arquivo:\n",
    "    nomes = arquivo.readlines()\n",
    "    print(nomes)\n"
   ]
  }
 ],
 "metadata": {
  "kernelspec": {
   "display_name": "Python 3",
   "language": "python",
   "name": "python3"
  },
  "language_info": {
   "codemirror_mode": {
    "name": "ipython",
    "version": 3
   },
   "file_extension": ".py",
   "mimetype": "text/x-python",
   "name": "python",
   "nbconvert_exporter": "python",
   "pygments_lexer": "ipython3",
   "version": "3.12.0"
  }
 },
 "nbformat": 4,
 "nbformat_minor": 2
}
